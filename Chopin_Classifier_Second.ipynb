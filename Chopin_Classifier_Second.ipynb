{
 "cells": [
  {
   "cell_type": "code",
   "execution_count": 1,
   "metadata": {},
   "outputs": [
    {
     "name": "stderr",
     "output_type": "stream",
     "text": [
      "/home/ubuntu/anaconda3/lib/python3.6/site-packages/h5py/__init__.py:36: FutureWarning: Conversion of the second argument of issubdtype from `float` to `np.floating` is deprecated. In future, it will be treated as `np.float64 == np.dtype(float).type`.\n",
      "  from ._conv import register_converters as _register_converters\n",
      "Using TensorFlow backend.\n",
      "/home/ubuntu/anaconda3/lib/python3.6/site-packages/matplotlib/__init__.py:1067: UserWarning: Duplicate key in file \"/home/ubuntu/.config/matplotlib/matplotlibrc\", line #2\n",
      "  (fname, cnt))\n",
      "/home/ubuntu/anaconda3/lib/python3.6/site-packages/matplotlib/__init__.py:1067: UserWarning: Duplicate key in file \"/home/ubuntu/.config/matplotlib/matplotlibrc\", line #3\n",
      "  (fname, cnt))\n",
      "Saving vectors of label - 'other': 100%|██████████| 201/201 [05:56<00:00,  1.78s/it]\n",
      "Saving vectors of label - 'bed': 100%|██████████| 1713/1713 [00:07<00:00, 226.77it/s]\n",
      "Saving vectors of label - 'Chopin': 100%|██████████| 104/104 [02:56<00:00,  1.69s/it]\n",
      "Saving vectors of label - '.ipynb_checkpoints': 0it [00:00, ?it/s]\n",
      "Saving vectors of label - 'cat': 100%|██████████| 1733/1733 [00:07<00:00, 232.30it/s]\n",
      "Saving vectors of label - 'happy': 100%|██████████| 1742/1742 [00:07<00:00, 224.38it/s]\n"
     ]
    }
   ],
   "source": [
    "%load_ext autoreload\n",
    "%autoreload 2\n",
    "\n",
    "from preprocess import *\n",
    "import keras\n",
    "from keras.models import Sequential\n",
    "from keras.layers import Dense, Dropout, Flatten, Conv2D, MaxPooling2D\n",
    "from keras.utils import to_categorical\n",
    "\n",
    "# Second dimension of the feature is dim2\n",
    "feature_dim_2 = 11\n",
    "\n",
    "# Save data to array file first\n",
    "save_data_to_array(max_len=feature_dim_2)\n",
    "\n",
    "# # Loading train set and test set\n",
    "X_train, X_test, y_train, y_test = get_train_test()\n",
    "\n",
    "# # Feature dimension\n",
    "feature_dim_1 = 20\n",
    "channel = 1\n",
    "epochs = 50\n",
    "batch_size = 100\n",
    "verbose = 1\n",
    "num_classes = 5\n",
    "\n",
    "# Reshaping to perform 2D convolution\n",
    "X_train = X_train.reshape(X_train.shape[0], feature_dim_1, feature_dim_2, channel)\n",
    "X_test = X_test.reshape(X_test.shape[0], feature_dim_1, feature_dim_2, channel)\n",
    "\n",
    "y_train_hot = to_categorical(y_train)\n",
    "y_test_hot = to_categorical(y_test)"
   ]
  },
  {
   "cell_type": "code",
   "execution_count": 2,
   "metadata": {},
   "outputs": [],
   "source": [
    "def get_model():\n",
    "    model = Sequential()\n",
    "    model.add(Conv2D(32, kernel_size=(2, 2), activation='relu', input_shape=(feature_dim_1, feature_dim_2, channel)))\n",
    "    model.add(Conv2D(48, kernel_size=(2, 2), activation='relu'))\n",
    "    model.add(Conv2D(120, kernel_size=(2, 2), activation='relu'))\n",
    "    model.add(MaxPooling2D(pool_size=(2, 2)))\n",
    "    model.add(Dropout(0.25))\n",
    "    model.add(Flatten())\n",
    "    model.add(Dense(128, activation='relu'))\n",
    "    model.add(Dropout(0.25))\n",
    "    model.add(Dense(64, activation='relu'))\n",
    "    model.add(Dropout(0.4))\n",
    "    model.add(Dense(num_classes, activation='softmax'))\n",
    "    model.compile(loss=keras.losses.categorical_crossentropy,\n",
    "                  optimizer=keras.optimizers.Adadelta(),\n",
    "                  metrics=['accuracy'])\n",
    "    return model\n",
    "\n",
    "# Predicts one sample\n",
    "def predict(filepath, model):\n",
    "    sample = wav2mfcc(filepath)\n",
    "    sample_reshaped = sample.reshape(1, feature_dim_1, feature_dim_2, channel)\n",
    "    return get_labels()[0][\n",
    "            np.argmax(model.predict(sample_reshaped))\n",
    "    ]"
   ]
  },
  {
   "cell_type": "markdown",
   "metadata": {},
   "source": [
    "# Building The Model Then Training it"
   ]
  },
  {
   "cell_type": "code",
   "execution_count": 3,
   "metadata": {},
   "outputs": [
    {
     "name": "stdout",
     "output_type": "stream",
     "text": [
      "Train on 3295 samples, validate on 2198 samples\n",
      "Epoch 1/50\n",
      "3295/3295 [==============================] - 2s 701us/step - loss: 1.9565 - acc: 0.3909 - val_loss: 0.8213 - val_acc: 0.6306\n",
      "Epoch 2/50\n",
      "3295/3295 [==============================] - 2s 474us/step - loss: 0.8342 - acc: 0.6592 - val_loss: 0.8486 - val_acc: 0.6151\n",
      "Epoch 3/50\n",
      "3295/3295 [==============================] - 1s 449us/step - loss: 0.6819 - acc: 0.7439 - val_loss: 0.4061 - val_acc: 0.8681\n",
      "Epoch 4/50\n",
      "3295/3295 [==============================] - 2s 461us/step - loss: 0.5100 - acc: 0.8115 - val_loss: 0.4027 - val_acc: 0.8480\n",
      "Epoch 5/50\n",
      "3295/3295 [==============================] - 1s 450us/step - loss: 0.4229 - acc: 0.8449 - val_loss: 0.3441 - val_acc: 0.8708\n",
      "Epoch 6/50\n",
      "3295/3295 [==============================] - 1s 452us/step - loss: 0.3844 - acc: 0.8546 - val_loss: 0.2670 - val_acc: 0.9081\n",
      "Epoch 7/50\n",
      "3295/3295 [==============================] - 2s 667us/step - loss: 0.3137 - acc: 0.8841 - val_loss: 0.2908 - val_acc: 0.8949\n",
      "Epoch 8/50\n",
      "3295/3295 [==============================] - 2s 480us/step - loss: 0.2825 - acc: 0.8971 - val_loss: 0.2792 - val_acc: 0.8954\n",
      "Epoch 9/50\n",
      "3295/3295 [==============================] - 2s 504us/step - loss: 0.2366 - acc: 0.9099 - val_loss: 0.2791 - val_acc: 0.9035\n",
      "Epoch 10/50\n",
      "3295/3295 [==============================] - 1s 450us/step - loss: 0.2133 - acc: 0.9202 - val_loss: 0.3556 - val_acc: 0.8740\n",
      "Epoch 11/50\n",
      "3295/3295 [==============================] - 2s 465us/step - loss: 0.1958 - acc: 0.9259 - val_loss: 0.2091 - val_acc: 0.9263\n",
      "Epoch 12/50\n",
      "3295/3295 [==============================] - 2s 473us/step - loss: 0.1689 - acc: 0.9436 - val_loss: 0.2196 - val_acc: 0.9245\n",
      "Epoch 13/50\n",
      "3295/3295 [==============================] - 2s 465us/step - loss: 0.1501 - acc: 0.9481 - val_loss: 0.2605 - val_acc: 0.9195\n",
      "Epoch 14/50\n",
      "3295/3295 [==============================] - 2s 460us/step - loss: 0.1305 - acc: 0.9524 - val_loss: 0.2296 - val_acc: 0.9290\n",
      "Epoch 15/50\n",
      "3295/3295 [==============================] - 1s 442us/step - loss: 0.1180 - acc: 0.9514 - val_loss: 0.2271 - val_acc: 0.9322\n",
      "Epoch 16/50\n",
      "3295/3295 [==============================] - 1s 448us/step - loss: 0.1050 - acc: 0.9587 - val_loss: 0.2053 - val_acc: 0.9290\n",
      "Epoch 17/50\n",
      "3295/3295 [==============================] - 2s 459us/step - loss: 0.0809 - acc: 0.9669 - val_loss: 0.2420 - val_acc: 0.9290\n",
      "Epoch 18/50\n",
      "3295/3295 [==============================] - 1s 440us/step - loss: 0.0866 - acc: 0.9636 - val_loss: 0.2150 - val_acc: 0.9359\n",
      "Epoch 19/50\n",
      "3295/3295 [==============================] - 2s 474us/step - loss: 0.0861 - acc: 0.9624 - val_loss: 0.2300 - val_acc: 0.9349\n",
      "Epoch 20/50\n",
      "3295/3295 [==============================] - 2s 456us/step - loss: 0.0653 - acc: 0.9700 - val_loss: 0.2269 - val_acc: 0.9372\n",
      "Epoch 21/50\n",
      "3295/3295 [==============================] - 1s 446us/step - loss: 0.0698 - acc: 0.9693 - val_loss: 0.2674 - val_acc: 0.9372\n",
      "Epoch 22/50\n",
      "3295/3295 [==============================] - 2s 464us/step - loss: 0.0733 - acc: 0.9718 - val_loss: 0.2270 - val_acc: 0.9368\n",
      "Epoch 23/50\n",
      "3295/3295 [==============================] - 1s 444us/step - loss: 0.0615 - acc: 0.9709 - val_loss: 0.2559 - val_acc: 0.9340\n",
      "Epoch 24/50\n",
      "3295/3295 [==============================] - 2s 458us/step - loss: 0.0584 - acc: 0.9736 - val_loss: 0.2833 - val_acc: 0.9318\n",
      "Epoch 25/50\n",
      "3295/3295 [==============================] - 2s 467us/step - loss: 0.0604 - acc: 0.9721 - val_loss: 0.2800 - val_acc: 0.9349\n",
      "Epoch 26/50\n",
      "3295/3295 [==============================] - 1s 455us/step - loss: 0.0496 - acc: 0.9785 - val_loss: 0.2988 - val_acc: 0.9295\n",
      "Epoch 27/50\n",
      "3295/3295 [==============================] - 2s 456us/step - loss: 0.0487 - acc: 0.9791 - val_loss: 0.2824 - val_acc: 0.9340\n",
      "Epoch 28/50\n",
      "3295/3295 [==============================] - 2s 464us/step - loss: 0.0579 - acc: 0.9800 - val_loss: 0.2855 - val_acc: 0.9322\n",
      "Epoch 29/50\n",
      "3295/3295 [==============================] - 1s 449us/step - loss: 0.0540 - acc: 0.9800 - val_loss: 0.2711 - val_acc: 0.9336\n",
      "Epoch 30/50\n",
      "3295/3295 [==============================] - 2s 456us/step - loss: 0.0514 - acc: 0.9778 - val_loss: 0.2541 - val_acc: 0.9363\n",
      "Epoch 31/50\n",
      "3295/3295 [==============================] - 1s 443us/step - loss: 0.0487 - acc: 0.9803 - val_loss: 0.2425 - val_acc: 0.9318\n",
      "Epoch 32/50\n",
      "3295/3295 [==============================] - 1s 455us/step - loss: 0.0380 - acc: 0.9842 - val_loss: 0.2655 - val_acc: 0.9313\n",
      "Epoch 33/50\n",
      "3295/3295 [==============================] - 2s 465us/step - loss: 0.0344 - acc: 0.9833 - val_loss: 0.3034 - val_acc: 0.9327\n",
      "Epoch 34/50\n",
      "3295/3295 [==============================] - 2s 456us/step - loss: 0.0408 - acc: 0.9830 - val_loss: 0.2591 - val_acc: 0.9390\n",
      "Epoch 35/50\n",
      "3295/3295 [==============================] - 2s 459us/step - loss: 0.0437 - acc: 0.9839 - val_loss: 0.3622 - val_acc: 0.9231\n",
      "Epoch 36/50\n",
      "3295/3295 [==============================] - 2s 461us/step - loss: 0.0443 - acc: 0.9794 - val_loss: 0.2727 - val_acc: 0.9336\n",
      "Epoch 37/50\n",
      "3295/3295 [==============================] - 1s 444us/step - loss: 0.0301 - acc: 0.9866 - val_loss: 0.2499 - val_acc: 0.9395\n",
      "Epoch 38/50\n",
      "3295/3295 [==============================] - 2s 467us/step - loss: 0.0307 - acc: 0.9879 - val_loss: 0.3240 - val_acc: 0.9340\n",
      "Epoch 39/50\n",
      "3295/3295 [==============================] - 1s 444us/step - loss: 0.0486 - acc: 0.9797 - val_loss: 0.2833 - val_acc: 0.9322\n",
      "Epoch 40/50\n",
      "3295/3295 [==============================] - 1s 453us/step - loss: 0.0484 - acc: 0.9839 - val_loss: 0.2638 - val_acc: 0.9377\n",
      "Epoch 41/50\n",
      "3295/3295 [==============================] - 2s 457us/step - loss: 0.0334 - acc: 0.9876 - val_loss: 0.3508 - val_acc: 0.9318\n",
      "Epoch 42/50\n",
      "3295/3295 [==============================] - 1s 440us/step - loss: 0.0406 - acc: 0.9824 - val_loss: 0.2923 - val_acc: 0.9345\n",
      "Epoch 43/50\n",
      "3295/3295 [==============================] - 2s 465us/step - loss: 0.0436 - acc: 0.9806 - val_loss: 0.2774 - val_acc: 0.9331\n",
      "Epoch 44/50\n",
      "3295/3295 [==============================] - 1s 453us/step - loss: 0.0277 - acc: 0.9848 - val_loss: 0.3719 - val_acc: 0.9327\n",
      "Epoch 45/50\n",
      "3295/3295 [==============================] - 1s 454us/step - loss: 0.0297 - acc: 0.9882 - val_loss: 0.3122 - val_acc: 0.9336\n",
      "Epoch 46/50\n",
      "3295/3295 [==============================] - 2s 464us/step - loss: 0.0303 - acc: 0.9854 - val_loss: 0.4522 - val_acc: 0.9249\n",
      "Epoch 47/50\n",
      "3295/3295 [==============================] - 1s 443us/step - loss: 0.0355 - acc: 0.9851 - val_loss: 0.2985 - val_acc: 0.9345\n",
      "Epoch 48/50\n",
      "3295/3295 [==============================] - 2s 456us/step - loss: 0.0332 - acc: 0.9848 - val_loss: 0.3162 - val_acc: 0.9354\n",
      "Epoch 49/50\n",
      "3295/3295 [==============================] - 2s 481us/step - loss: 0.0330 - acc: 0.9860 - val_loss: 0.3112 - val_acc: 0.9345\n",
      "Epoch 50/50\n",
      "3295/3295 [==============================] - 2s 480us/step - loss: 0.0347 - acc: 0.9842 - val_loss: 0.2814 - val_acc: 0.9377\n"
     ]
    },
    {
     "data": {
      "text/plain": [
       "<keras.callbacks.History at 0x7f3be670b7b8>"
      ]
     },
     "execution_count": 3,
     "metadata": {},
     "output_type": "execute_result"
    }
   ],
   "source": [
    "model = get_model()\n",
    "model.fit(X_train, y_train_hot, batch_size=batch_size, epochs=epochs, verbose=verbose, validation_data=(X_test, y_test_hot))"
   ]
  },
  {
   "cell_type": "markdown",
   "metadata": {},
   "source": [
    "## Prediction"
   ]
  },
  {
   "cell_type": "code",
   "execution_count": 4,
   "metadata": {},
   "outputs": [
    {
     "name": "stdout",
     "output_type": "stream",
     "text": [
      "other\n"
     ]
    }
   ],
   "source": [
    "print(predict('./test/other_test (6).mp3', model=model))"
   ]
  },
  {
   "cell_type": "code",
   "execution_count": 7,
   "metadata": {},
   "outputs": [
    {
     "name": "stdout",
     "output_type": "stream",
     "text": [
      "./test/other_test (1).mp3 is other\n",
      "./test/other_test (3).mp3 is other\n",
      "./test/Kevin Kern - wave.mp3 is other\n",
      "./test/other_test (2).mp3 is other\n",
      "./test/Kevin Kern - We Should Waltz.mp3 is .ipynb_checkpoints\n",
      "./test/other_test (6).mp3 is other\n",
      "./test/other_test (4).mp3 is .ipynb_checkpoints\n",
      "./test/other_test (8).mp3 is .ipynb_checkpoints\n",
      "./test/other_test (5).mp3 is Chopin\n",
      "./test/Kevin Kern - Le Jardin.mp3 is .ipynb_checkpoints\n"
     ]
    }
   ],
   "source": [
    "import glob\n",
    "for i in glob.glob('./test/*.mp3'):\n",
    "    print(\"{0} is {1}\".format(i,predict(i, model=model)))"
   ]
  },
  {
   "cell_type": "code",
   "execution_count": 6,
   "metadata": {},
   "outputs": [
    {
     "name": "stdout",
     "output_type": "stream",
     "text": [
      "./chopin_test/chopin_test (11).mp3 is other\n",
      "./chopin_test/chopin_test (18).mp3 is other\n",
      "./chopin_test/chopin_test (6).mp3 is .ipynb_checkpoints\n",
      "./chopin_test/chopin_test (4).mp3 is other\n",
      "./chopin_test/chopin_test (15).mp3 is .ipynb_checkpoints\n",
      "./chopin_test/chopin_test (13).mp3 is other\n",
      "./chopin_test/chopin_test (1).mp3 is other\n",
      "./chopin_test/chopin_test (2).mp3 is other\n",
      "./chopin_test/chopin_test (12).mp3 is .ipynb_checkpoints\n",
      "./chopin_test/chopin_test (7).mp3 is other\n",
      "./chopin_test/chopin_test (17).mp3 is other\n",
      "./chopin_test/chopin_test (9).mp3 is other\n",
      "./chopin_test/chopin_test (3).mp3 is other\n",
      "./chopin_test/chopin_test (10).mp3 is other\n",
      "./chopin_test/chopin_test (8).mp3 is .ipynb_checkpoints\n",
      "./chopin_test/chopin_test (16).mp3 is other\n",
      "./chopin_test/chopin_test (14).mp3 is other\n",
      "./chopin_test/chopin_test (5).mp3 is other\n"
     ]
    }
   ],
   "source": [
    "for i in glob.glob('./chopin_test/*.mp3'):\n",
    "    print(\"{0} is {1}\".format(i,predict(i, model=model)))"
   ]
  }
 ],
 "metadata": {
  "kernelspec": {
   "display_name": "Python 3",
   "language": "python",
   "name": "python3"
  },
  "language_info": {
   "codemirror_mode": {
    "name": "ipython",
    "version": 3
   },
   "file_extension": ".py",
   "mimetype": "text/x-python",
   "name": "python",
   "nbconvert_exporter": "python",
   "pygments_lexer": "ipython3",
   "version": "3.6.4"
  }
 },
 "nbformat": 4,
 "nbformat_minor": 2
}
